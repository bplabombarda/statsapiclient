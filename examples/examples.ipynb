{
 "cells": [
  {
   "cell_type": "code",
   "execution_count": 1,
   "metadata": {},
   "outputs": [],
   "source": [
    "import sys\n",
    "sys.path.insert(0,'..')"
   ]
  },
  {
   "cell_type": "code",
   "execution_count": 2,
   "metadata": {},
   "outputs": [],
   "source": [
    "from statsapiclient.games.game import Game\n",
    "from statsapiclient.games.line_score import LineScore\n",
    "from statsapiclient.schedule import Schedule\n",
    "from statsapiclient.teams import Teams"
   ]
  },
  {
   "cell_type": "code",
   "execution_count": 3,
   "metadata": {},
   "outputs": [],
   "source": [
    "schedule = Schedule('2016-10-12')"
   ]
  },
  {
   "cell_type": "code",
   "execution_count": 4,
   "metadata": {},
   "outputs": [],
   "source": [
    "games = schedule.get_games()"
   ]
  },
  {
   "cell_type": "code",
   "execution_count": 5,
   "metadata": {},
   "outputs": [
    {
     "name": "stdout",
     "output_type": "stream",
     "text": [
      "2016020001\n",
      "2016020002\n",
      "2016020003\n",
      "2016020004\n"
     ]
    }
   ],
   "source": [
    "for game in games:\n",
    "    print(game['gamePk'])"
   ]
  },
  {
   "cell_type": "code",
   "execution_count": 6,
   "metadata": {},
   "outputs": [],
   "source": [
    "game = Game('2016020001')"
   ]
  },
  {
   "cell_type": "code",
   "execution_count": 7,
   "metadata": {},
   "outputs": [
    {
     "data": {
      "text/plain": [
       "{'penalty_plays': [{'period': '1st',\n",
       "   'time': '06:35',\n",
       "   'team': 'OTT',\n",
       "   'strength': 'Fighting (5 min)',\n",
       "   'description': 'Mark Borowiecki Fighting against Matt Martin'},\n",
       "  {'period': '1st',\n",
       "   'time': '06:35',\n",
       "   'team': 'TOR',\n",
       "   'strength': 'Fighting (5 min)',\n",
       "   'description': 'Matt Martin Fighting against Mark Borowiecki'},\n",
       "  {'period': '1st',\n",
       "   'time': '05:01',\n",
       "   'team': 'OTT',\n",
       "   'strength': 'Hooking (2 min)',\n",
       "   'description': 'Zack Smith Hooking against Martin Marincin'},\n",
       "  {'period': '1st',\n",
       "   'time': '01:59',\n",
       "   'team': 'TOR',\n",
       "   'strength': 'Hooking (2 min)',\n",
       "   'description': 'Connor Brown Hooking against Mike Hoffman'},\n",
       "  {'period': '2nd',\n",
       "   'time': '18:35',\n",
       "   'team': 'TOR',\n",
       "   'strength': 'Cross checking (2 min)',\n",
       "   'description': 'Matt Martin Cross checking against Chris Neil'},\n",
       "  {'period': '2nd',\n",
       "   'time': '18:35',\n",
       "   'team': 'OTT',\n",
       "   'strength': 'Cross checking (2 min)',\n",
       "   'description': 'Chris Neil Cross checking against Matt Martin'},\n",
       "  {'period': '2nd',\n",
       "   'time': '16:34',\n",
       "   'team': 'OTT',\n",
       "   'strength': 'Interference (2 min)',\n",
       "   'description': 'Chris Wideman Interference against Mitchell Marner'},\n",
       "  {'period': '2nd',\n",
       "   'time': '13:24',\n",
       "   'team': 'OTT',\n",
       "   'strength': 'Too many men on the ice (2 min)',\n",
       "   'description': 'Too many men/ice served by Mike Hoffman'},\n",
       "  {'period': '2nd',\n",
       "   'time': '09:05',\n",
       "   'team': 'OTT',\n",
       "   'strength': 'Hooking (2 min)',\n",
       "   'description': 'Dion Phaneuf Hooking against Leo Komarov'},\n",
       "  {'period': '3rd',\n",
       "   'time': '17:58',\n",
       "   'team': 'TOR',\n",
       "   'strength': 'Holding (2 min)',\n",
       "   'description': 'William Nylander Holding against Jean-Gabriel Pageau'}],\n",
       " 'scoring_plays': [{'period': '1st',\n",
       "   'time': '11:39',\n",
       "   'team': 'TOR',\n",
       "   'strength': 'Even',\n",
       "   'description': 'Auston Matthews (1) Wrist Shot, assists: Zach Hyman (1), William Nylander (1)'},\n",
       "  {'period': '1st',\n",
       "   'time': '09:34',\n",
       "   'team': 'OTT',\n",
       "   'strength': 'Even',\n",
       "   'description': 'Bobby Ryan (1) Backhand, assists: Erik Karlsson (1), Zack Smith (1)'},\n",
       "  {'period': '1st',\n",
       "   'time': '07:11',\n",
       "   'team': 'OTT',\n",
       "   'strength': 'Even',\n",
       "   'description': 'Erik Karlsson (1) Slap Shot, assists: Derick Brassard (1), Bobby Ryan (1)'},\n",
       "  {'period': '1st',\n",
       "   'time': '05:42',\n",
       "   'team': 'TOR',\n",
       "   'strength': 'Even',\n",
       "   'description': 'Auston Matthews (2) Snap Shot, assists: none'},\n",
       "  {'period': '2nd',\n",
       "   'time': '18:35',\n",
       "   'team': 'TOR',\n",
       "   'strength': 'Even',\n",
       "   'description': 'Auston Matthews (3) Wrist Shot, assists: Morgan Rielly (1)'},\n",
       "  {'period': '2nd',\n",
       "   'time': '02:08',\n",
       "   'team': 'OTT',\n",
       "   'strength': 'Even',\n",
       "   'description': 'Derick Brassard (1) Wrist Shot, assists: none'},\n",
       "  {'period': '2nd',\n",
       "   'time': '00:03',\n",
       "   'team': 'TOR',\n",
       "   'strength': 'Even',\n",
       "   'description': 'Auston Matthews (4) Wrist Shot, assists: William Nylander (2), Jake Gardiner (1)'},\n",
       "  {'period': '3rd',\n",
       "   'time': '13:15',\n",
       "   'team': 'OTT',\n",
       "   'strength': 'Even',\n",
       "   'description': 'Kyle Turris (1) Snap Shot, assists: Mark Stone (1)'},\n",
       "  {'period': 'OT',\n",
       "   'time': '04:23',\n",
       "   'team': 'OTT',\n",
       "   'strength': 'Even',\n",
       "   'description': 'Kyle Turris (2) Snap Shot, assists: Mark Stone (2), Erik Karlsson (2)'}]}"
      ]
     },
     "execution_count": 7,
     "metadata": {},
     "output_type": "execute_result"
    }
   ],
   "source": [
    "game.get_summary()"
   ]
  },
  {
   "cell_type": "code",
   "execution_count": null,
   "metadata": {},
   "outputs": [],
   "source": [
    "line_score = game.get_line_score()"
   ]
  },
  {
   "cell_type": "code",
   "execution_count": null,
   "metadata": {},
   "outputs": [],
   "source": [
    "l = LineScore(line_score)"
   ]
  },
  {
   "cell_type": "code",
   "execution_count": null,
   "metadata": {},
   "outputs": [],
   "source": [
    "l.get_current_period()"
   ]
  },
  {
   "cell_type": "code",
   "execution_count": null,
   "metadata": {},
   "outputs": [],
   "source": [
    "l.get_score()"
   ]
  },
  {
   "cell_type": "code",
   "execution_count": null,
   "metadata": {},
   "outputs": [],
   "source": [
    "l.get_shots_on_goal()"
   ]
  },
  {
   "cell_type": "code",
   "execution_count": null,
   "metadata": {},
   "outputs": [],
   "source": [
    "t = Teams()"
   ]
  },
  {
   "cell_type": "code",
   "execution_count": null,
   "metadata": {},
   "outputs": [],
   "source": [
    "t.get_active_by_division()"
   ]
  },
  {
   "cell_type": "code",
   "execution_count": null,
   "metadata": {},
   "outputs": [],
   "source": []
  },
  {
   "cell_type": "code",
   "execution_count": null,
   "metadata": {},
   "outputs": [],
   "source": []
  }
 ],
 "metadata": {
  "kernelspec": {
   "display_name": "Python 3",
   "language": "python",
   "name": "python3"
  },
  "language_info": {
   "codemirror_mode": {
    "name": "ipython",
    "version": 3
   },
   "file_extension": ".py",
   "mimetype": "text/x-python",
   "name": "python",
   "nbconvert_exporter": "python",
   "pygments_lexer": "ipython3",
   "version": "3.7.2"
  }
 },
 "nbformat": 4,
 "nbformat_minor": 2
}
